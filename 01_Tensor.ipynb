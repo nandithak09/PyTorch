{
 "cells": [
  {
   "cell_type": "code",
   "execution_count": 1,
   "id": "eec6c7d7-c3a4-4cbb-960e-0fb6dff9e869",
   "metadata": {},
   "outputs": [
    {
     "name": "stdout",
     "output_type": "stream",
     "text": [
      "^C\n",
      "Collecting torch\n",
      "  Using cached torch-2.7.1-cp312-cp312-win_amd64.whl.metadata (28 kB)\n",
      "Requirement already satisfied: filelock in c:\\users\\nandi\\anaconda3\\lib\\site-packages (from torch) (3.13.1)\n",
      "Requirement already satisfied: typing-extensions>=4.10.0 in c:\\users\\nandi\\anaconda3\\lib\\site-packages (from torch) (4.11.0)\n",
      "Requirement already satisfied: sympy>=1.13.3 in c:\\users\\nandi\\anaconda3\\lib\\site-packages (from torch) (1.14.0)\n",
      "Requirement already satisfied: networkx in c:\\users\\nandi\\anaconda3\\lib\\site-packages (from torch) (3.3)\n",
      "Requirement already satisfied: jinja2 in c:\\users\\nandi\\anaconda3\\lib\\site-packages (from torch) (3.1.4)\n",
      "Requirement already satisfied: fsspec in c:\\users\\nandi\\anaconda3\\lib\\site-packages (from torch) (2024.6.1)\n",
      "Requirement already satisfied: setuptools in c:\\users\\nandi\\anaconda3\\lib\\site-packages (from torch) (75.1.0)\n",
      "Requirement already satisfied: mpmath<1.4,>=1.1.0 in c:\\users\\nandi\\anaconda3\\lib\\site-packages (from sympy>=1.13.3->torch) (1.3.0)\n",
      "Requirement already satisfied: MarkupSafe>=2.0 in c:\\users\\nandi\\anaconda3\\lib\\site-packages (from jinja2->torch) (2.1.3)\n",
      "Using cached torch-2.7.1-cp312-cp312-win_amd64.whl (216.1 MB)\n",
      "Installing collected packages: torch\n"
     ]
    }
   ],
   "source": [
    "!pip install torch"
   ]
  },
  {
   "cell_type": "code",
   "execution_count": 1,
   "id": "cbe016d9-37ce-4b68-b5f3-8ac3987b1525",
   "metadata": {},
   "outputs": [
    {
     "name": "stdout",
     "output_type": "stream",
     "text": [
      "tensor([1.9353e+25, 1.9548e-42, 0.0000e+00])\n"
     ]
    }
   ],
   "source": [
    "import torch\n",
    "x = torch.empty(3)\n",
    "print(x)"
   ]
  },
  {
   "cell_type": "code",
   "execution_count": 2,
   "id": "d3de13b7-c89e-4882-9c6e-a9838f3d1f70",
   "metadata": {},
   "outputs": [
    {
     "name": "stdout",
     "output_type": "stream",
     "text": [
      "tensor([[0., 0., 0.],\n",
      "        [0., 0., 0.]])\n"
     ]
    }
   ],
   "source": [
    "x = torch.empty(2,3)\n",
    "print(x)"
   ]
  },
  {
   "cell_type": "code",
   "execution_count": 3,
   "id": "dff7f2e8-c135-4802-bf9b-828e1560befc",
   "metadata": {},
   "outputs": [
    {
     "name": "stdout",
     "output_type": "stream",
     "text": [
      "tensor([[[0., 0., 0.],\n",
      "         [0., 0., 0.]],\n",
      "\n",
      "        [[0., 0., 0.],\n",
      "         [0., 0., 0.]]])\n"
     ]
    }
   ],
   "source": [
    "x = torch.empty(2,2,3)\n",
    "print(x)"
   ]
  },
  {
   "cell_type": "code",
   "execution_count": 4,
   "id": "323a2577-13ee-4772-ad86-fea5a747a025",
   "metadata": {},
   "outputs": [
    {
     "name": "stdout",
     "output_type": "stream",
     "text": [
      "tensor([[0.9379, 0.5280, 0.7913],\n",
      "        [0.3053, 0.5198, 0.1539]])\n"
     ]
    }
   ],
   "source": [
    "x = torch.rand(2,3)\n",
    "print(x)"
   ]
  },
  {
   "cell_type": "code",
   "execution_count": 2,
   "id": "4d6a279c-aee9-48a5-bb06-5e922cce07fd",
   "metadata": {},
   "outputs": [
    {
     "name": "stdout",
     "output_type": "stream",
     "text": [
      "tensor([[0., 0.],\n",
      "        [0., 0.]])\n"
     ]
    }
   ],
   "source": [
    "import torch\n",
    "x = torch.zeros(2,2)\n",
    "print(x)"
   ]
  },
  {
   "cell_type": "code",
   "execution_count": 3,
   "id": "a94ce762-a790-44bc-8b8e-df4acf94666d",
   "metadata": {},
   "outputs": [
    {
     "name": "stdout",
     "output_type": "stream",
     "text": [
      "tensor([[1., 1.],\n",
      "        [1., 1.]])\n",
      "torch.float32\n"
     ]
    }
   ],
   "source": [
    "x = torch.ones(2,2)\n",
    "print(x)\n",
    "print(x.dtype)"
   ]
  },
  {
   "cell_type": "code",
   "execution_count": 4,
   "id": "23ff5048-4bc3-433f-9dc5-ae1d84bdb3cb",
   "metadata": {},
   "outputs": [
    {
     "name": "stdout",
     "output_type": "stream",
     "text": [
      "tensor([[1, 1],\n",
      "        [1, 1]], dtype=torch.int32)\n",
      "torch.int32\n"
     ]
    }
   ],
   "source": [
    "x = torch.ones(2,2,dtype = torch.int)\n",
    "print(x)\n",
    "print(x.dtype)"
   ]
  },
  {
   "cell_type": "code",
   "execution_count": 5,
   "id": "adc7d243-0298-49cf-8efa-aa515165702e",
   "metadata": {},
   "outputs": [
    {
     "name": "stdout",
     "output_type": "stream",
     "text": [
      "tensor([[1., 1.],\n",
      "        [1., 1.]], dtype=torch.float64)\n",
      "torch.float64\n"
     ]
    }
   ],
   "source": [
    "x = torch.ones(2,2,dtype = torch.double)\n",
    "print(x)\n",
    "print(x.dtype)"
   ]
  },
  {
   "cell_type": "code",
   "execution_count": 1,
   "id": "efee31eb-8170-4efa-bbca-be11aaece745",
   "metadata": {},
   "outputs": [
    {
     "name": "stdout",
     "output_type": "stream",
     "text": [
      "tensor([[0.3777, 0.7590, 0.7279],\n",
      "        [0.1803, 0.9231, 0.9999],\n",
      "        [0.7559, 0.2818, 0.6788]])\n",
      "tensor([[0.0617, 0.5073, 0.3227],\n",
      "        [0.7726, 0.4734, 0.0445],\n",
      "        [0.1579, 0.0880, 0.6840]])\n",
      "tensor([[0.4394, 1.2663, 1.0506],\n",
      "        [0.9529, 1.3964, 1.0444],\n",
      "        [0.9138, 0.3699, 1.3628]])\n"
     ]
    }
   ],
   "source": [
    "#Tensor Operations\n",
    "\n",
    "import torch\n",
    "x = torch.rand(3,3)\n",
    "y = torch.rand(3,3)\n",
    "print(x)\n",
    "print(y)\n",
    "z = x+y\n",
    "print(z)\n"
   ]
  },
  {
   "cell_type": "code",
   "execution_count": 2,
   "id": "49acddf2-6a5d-48d4-8430-f341d61d0608",
   "metadata": {},
   "outputs": [
    {
     "name": "stdout",
     "output_type": "stream",
     "text": [
      "tensor([[0.8470, 0.1006, 0.8609],\n",
      "        [0.4584, 0.5508, 0.7120]])\n",
      "tensor([[0.1197, 0.3360, 0.7366],\n",
      "        [0.6364, 0.1624, 0.2650]])\n",
      "tensor([[0.9667, 0.4366, 1.5975],\n",
      "        [1.0948, 0.7132, 0.9770]])\n"
     ]
    }
   ],
   "source": [
    "x = torch.rand(2,3)\n",
    "y = torch.rand(2,3)\n",
    "print(x)\n",
    "print(y)\n",
    "z = torch.add(x,y)\n",
    "print(z)"
   ]
  },
  {
   "cell_type": "code",
   "execution_count": 3,
   "id": "b40ed37c-009a-42bb-836f-7ab6e54bbd37",
   "metadata": {},
   "outputs": [
    {
     "name": "stdout",
     "output_type": "stream",
     "text": [
      "tensor([[0.1701, 0.4292, 0.4717],\n",
      "        [0.6588, 0.7546, 0.0967]])\n",
      "tensor([[0.1047, 0.1752, 0.7450],\n",
      "        [0.0305, 0.3741, 0.5587]])\n",
      "tensor([[0.2748, 0.6044, 1.2167],\n",
      "        [0.6893, 1.1287, 0.6554]])\n"
     ]
    }
   ],
   "source": [
    "x = torch.rand(2,3)\n",
    "y = torch.rand(2,3)\n",
    "print(x)\n",
    "print(y)\n",
    "y.add_(x)\n",
    "print(y)\n"
   ]
  },
  {
   "cell_type": "code",
   "execution_count": 4,
   "id": "9cdb38b9-4d73-44c2-8e14-7371114a3f8b",
   "metadata": {},
   "outputs": [
    {
     "name": "stdout",
     "output_type": "stream",
     "text": [
      "tensor([[0.7455, 0.8518],\n",
      "        [0.5865, 0.1713]])\n",
      "tensor([[0.0196, 0.9547],\n",
      "        [0.4496, 0.8404]])\n",
      "tensor([[0.0146, 0.8132],\n",
      "        [0.2637, 0.1440]])\n"
     ]
    }
   ],
   "source": [
    "x = torch.rand(2,2)\n",
    "y = torch.rand(2,2)\n",
    "print(x)\n",
    "print(y)\n",
    "z = torch.mul(x,y)\n",
    "print(z)"
   ]
  },
  {
   "cell_type": "code",
   "execution_count": 5,
   "id": "48bb7887-2da4-49c5-a147-7893c82313ff",
   "metadata": {},
   "outputs": [
    {
     "name": "stdout",
     "output_type": "stream",
     "text": [
      "tensor([[0.1921, 0.6219],\n",
      "        [0.4851, 0.9058]])\n",
      "tensor([[0.1851, 0.5138],\n",
      "        [0.4450, 0.5220]])\n",
      "tensor([[1.0377, 1.2104],\n",
      "        [1.0901, 1.7354]])\n"
     ]
    }
   ],
   "source": [
    "x = torch.rand(2,2)\n",
    "y = torch.rand(2,2)\n",
    "print(x)\n",
    "print(y)\n",
    "z = torch.div(x,y)\n",
    "print(z)"
   ]
  },
  {
   "cell_type": "code",
   "execution_count": 6,
   "id": "c97e5fb1-b1c7-4d55-b437-980b5039171f",
   "metadata": {},
   "outputs": [
    {
     "name": "stdout",
     "output_type": "stream",
     "text": [
      "tensor([[0.8859, 0.8795, 0.8249],\n",
      "        [0.3370, 0.8005, 0.4037],\n",
      "        [0.8360, 0.5839, 0.9111],\n",
      "        [0.8870, 0.0224, 0.4171],\n",
      "        [0.0870, 0.5963, 0.5002]])\n",
      "tensor([0.8249, 0.4037, 0.9111, 0.4171, 0.5002])\n",
      "tensor([0.8870, 0.0224, 0.4171])\n"
     ]
    }
   ],
   "source": [
    "x = torch.rand(5,3)\n",
    "print(x)\n",
    "print(x[:,2])\n",
    "print(x[3,:])"
   ]
  },
  {
   "cell_type": "code",
   "execution_count": 7,
   "id": "ed01539b-f14d-4a7f-a60b-24f855bd9acd",
   "metadata": {},
   "outputs": [
    {
     "name": "stdout",
     "output_type": "stream",
     "text": [
      "tensor([[0.5176, 0.1312, 0.9208, 0.6040],\n",
      "        [0.9238, 0.6184, 0.9908, 0.0706],\n",
      "        [0.9024, 0.6200, 0.7108, 0.5547],\n",
      "        [0.8777, 0.2242, 0.3138, 0.5929]])\n",
      "tensor([0.5176, 0.1312, 0.9208, 0.6040, 0.9238, 0.6184, 0.9908, 0.0706, 0.9024,\n",
      "        0.6200, 0.7108, 0.5547, 0.8777, 0.2242, 0.3138, 0.5929])\n"
     ]
    }
   ],
   "source": [
    "x = torch.rand(4,4)\n",
    "print(x)\n",
    "y = x.view(16)\n",
    "print(y)"
   ]
  },
  {
   "cell_type": "code",
   "execution_count": 10,
   "id": "7d507d99-cc72-4dad-a214-f4357ceb536b",
   "metadata": {},
   "outputs": [
    {
     "name": "stdout",
     "output_type": "stream",
     "text": [
      "tensor([[0.2012, 0.6459, 0.2760, 0.5661, 0.2002, 0.9985],\n",
      "        [0.8655, 0.9207, 0.1703, 0.2391, 0.6393, 0.6055],\n",
      "        [0.8857, 0.0484, 0.1201, 0.3884, 0.1072, 0.1293],\n",
      "        [0.2910, 0.4526, 0.1639, 0.9681, 0.7645, 0.7308],\n",
      "        [0.7149, 0.5415, 0.7053, 0.0447, 0.7303, 0.5976],\n",
      "        [0.6084, 0.5601, 0.9742, 0.4228, 0.4590, 0.3866]])\n",
      "tensor([[0.2012, 0.6459, 0.2760, 0.5661, 0.2002, 0.9985, 0.8655, 0.9207, 0.1703,\n",
      "         0.2391, 0.6393, 0.6055],\n",
      "        [0.8857, 0.0484, 0.1201, 0.3884, 0.1072, 0.1293, 0.2910, 0.4526, 0.1639,\n",
      "         0.9681, 0.7645, 0.7308],\n",
      "        [0.7149, 0.5415, 0.7053, 0.0447, 0.7303, 0.5976, 0.6084, 0.5601, 0.9742,\n",
      "         0.4228, 0.4590, 0.3866]])\n",
      "torch.Size([3, 12])\n"
     ]
    }
   ],
   "source": [
    "x = torch.rand(6,6)\n",
    "print(x)\n",
    "y = x.view(-1,12)\n",
    "print(y)\n",
    "print(y.size())"
   ]
  },
  {
   "cell_type": "code",
   "execution_count": 11,
   "id": "4a7c9a0d-8804-484a-bf0c-e8548280e903",
   "metadata": {},
   "outputs": [
    {
     "name": "stdout",
     "output_type": "stream",
     "text": [
      "tensor([[2, 3],\n",
      "        [4, 5]])\n",
      "tensor([[1, 1],\n",
      "        [1, 1]])\n"
     ]
    }
   ],
   "source": [
    "x = torch.tensor([[2,3],[4,5]])\n",
    "print(x)\n",
    "x_ones = torch.ones_like(x)\n",
    "print(x_ones)"
   ]
  },
  {
   "cell_type": "code",
   "execution_count": 12,
   "id": "dd6e2866-f794-4b75-b347-824ab408c44c",
   "metadata": {},
   "outputs": [
    {
     "name": "stdout",
     "output_type": "stream",
     "text": [
      "tensor([[2, 3],\n",
      "        [4, 5]])\n",
      "tensor([[0.4799, 0.0690],\n",
      "        [0.1482, 0.6934]])\n"
     ]
    }
   ],
   "source": [
    "x = torch.tensor([[2,3],[4,5]])\n",
    "print(x)\n",
    "x_rand = torch.rand_like(x, dtype = torch.float)\n",
    "print(x_rand)"
   ]
  },
  {
   "cell_type": "code",
   "execution_count": 13,
   "id": "06393203-539c-4531-ab24-5348dc3c7229",
   "metadata": {},
   "outputs": [
    {
     "name": "stdout",
     "output_type": "stream",
     "text": [
      "tensor([1., 1., 1., 1., 1.])\n",
      "[1. 1. 1. 1. 1.]\n"
     ]
    }
   ],
   "source": [
    "import numpy as np\n",
    "a = torch.ones(5)\n",
    "print(a)\n",
    "b = a.numpy()\n",
    "print(b)"
   ]
  },
  {
   "cell_type": "code",
   "execution_count": 14,
   "id": "927a95bd-9062-4ddb-a419-7371e3251ec4",
   "metadata": {},
   "outputs": [
    {
     "name": "stdout",
     "output_type": "stream",
     "text": [
      "[1. 1. 1. 1. 1.]\n",
      "tensor([1., 1., 1., 1., 1.], dtype=torch.float64)\n"
     ]
    }
   ],
   "source": [
    "a = np.ones(5)\n",
    "print(a)\n",
    "b = torch.from_numpy(a)\n",
    "print(b)"
   ]
  },
  {
   "cell_type": "code",
   "execution_count": null,
   "id": "899d43a5-4839-411b-97f6-c579eccc029e",
   "metadata": {},
   "outputs": [],
   "source": []
  }
 ],
 "metadata": {
  "kernelspec": {
   "display_name": "Python [conda env:base] *",
   "language": "python",
   "name": "conda-base-py"
  },
  "language_info": {
   "codemirror_mode": {
    "name": "ipython",
    "version": 3
   },
   "file_extension": ".py",
   "mimetype": "text/x-python",
   "name": "python",
   "nbconvert_exporter": "python",
   "pygments_lexer": "ipython3",
   "version": "3.12.7"
  }
 },
 "nbformat": 4,
 "nbformat_minor": 5
}
