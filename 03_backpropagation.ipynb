{
 "cells": [
  {
   "cell_type": "code",
   "execution_count": 4,
   "id": "87305060-11b0-4df7-9fc1-10af0f90c65b",
   "metadata": {},
   "outputs": [
    {
     "name": "stdout",
     "output_type": "stream",
     "text": [
      "tensor(1., grad_fn=<PowBackward0>)\n"
     ]
    }
   ],
   "source": [
    "import torch\n",
    "\n",
    "x = torch.tensor(1.0)\n",
    "y = torch.tensor(2.0)\n",
    "\n",
    "# This is the parameter we want to optimize -> requires_grad=True\n",
    "w = torch.tensor(1.0, requires_grad = True)\n",
    "\n",
    "# forward pass to compute loss\n",
    "y_predicted = w*x\n",
    "loss = (y_predicted-y)**2\n",
    "print(loss)\n",
    "\n"
   ]
  },
  {
   "cell_type": "code",
   "execution_count": 2,
   "id": "58f1c0ee-a122-4fac-a2aa-2a7c70cce46f",
   "metadata": {},
   "outputs": [
    {
     "name": "stdout",
     "output_type": "stream",
     "text": [
      "tensor(-2.)\n"
     ]
    }
   ],
   "source": [
    "# backward pass to compute gradient dLoss/dw\n",
    "loss.backward()\n",
    "print(w.grad)"
   ]
  },
  {
   "cell_type": "code",
   "execution_count": 3,
   "id": "efb40a0e-12c3-4cb6-890f-e1832cf078e7",
   "metadata": {},
   "outputs": [
    {
     "data": {
      "text/plain": [
       "tensor(0.)"
      ]
     },
     "execution_count": 3,
     "metadata": {},
     "output_type": "execute_result"
    }
   ],
   "source": [
    "# update weights\n",
    "# next forward and backward pass...\n",
    "\n",
    "# continue optimizing:\n",
    "# update weights, this operation should not be part of the computational graph\n",
    "with torch.no_grad():\n",
    "    w -= 0.01 * w.grad\n",
    "# don't forget to zero the gradients\n",
    "w.grad.zero_()\n",
    "\n",
    "# next forward and backward pass..."
   ]
  },
  {
   "cell_type": "markdown",
   "id": "eae2f300-6195-4f83-b366-ffb9476f27b9",
   "metadata": {},
   "source": [
    "STEP-01\n",
    "- prediction = manually\n",
    "- gradient computations = manually\n",
    "- Loss computation = manually\n",
    "-  Parameter updates = manually"
   ]
  },
  {
   "cell_type": "code",
   "execution_count": 20,
   "id": "2cb8f1f2-0e4f-4343-a9cb-f93977e46e17",
   "metadata": {},
   "outputs": [
    {
     "name": "stdout",
     "output_type": "stream",
     "text": [
      "Prediction before training:f(5)=0.000\n",
      "epoch 1: w = 0.300, loss = 30.00000000\n",
      "epoch 11: w = 1.665, loss = 1.16278565\n",
      "epoch 21: w = 1.934, loss = 0.04506905\n",
      "epoch 31: w = 1.987, loss = 0.00174685\n",
      "epoch 41: w = 1.997, loss = 0.00006770\n",
      "epoch 51: w = 1.999, loss = 0.00000262\n",
      "epoch 61: w = 2.000, loss = 0.00000010\n",
      "epoch 71: w = 2.000, loss = 0.00000000\n",
      "epoch 81: w = 2.000, loss = 0.00000000\n",
      "epoch 91: w = 2.000, loss = 0.00000000\n",
      "Prediction after training:f(5)=10.000\n"
     ]
    }
   ],
   "source": [
    "import numpy as np\n",
    "\n",
    "X = np.array([1,2,3,4], dtype = np.float32)\n",
    "Y = np.array([2,4,6,8], dtype = np.float32)\n",
    "\n",
    "w = 0.0\n",
    "def forward(x):\n",
    "    return w*x\n",
    "\n",
    "def loss(y,y_pred):\n",
    "    return((y_pred - y)**2).mean()\n",
    "\n",
    "def gradient(x,y,y_pred):\n",
    "    return np.mean(2*x*(y_pred-y))\n",
    "\n",
    "print(f'Prediction before training:f(5)={forward(5):.3f}')\n",
    "\n",
    "#Training\n",
    "learning_rate = 0.01\n",
    "n_iters = 100\n",
    "\n",
    "for epoch in range(n_iters):\n",
    "    y_pred = forward(X)\n",
    "    l = loss(Y,y_pred)\n",
    "    dw = gradient(X,Y,y_pred)\n",
    "    \n",
    "    #update weights\n",
    "    w-=learning_rate*dw\n",
    "\n",
    "    if epoch%10==0:\n",
    "         print(f'epoch {epoch+1}: w = {w:.3f}, loss = {l:.8f}')\n",
    "      \n",
    "print(f'Prediction after training:f(5)={forward(5):.3f}')\n",
    "             "
   ]
  },
  {
   "cell_type": "markdown",
   "id": "e4dbb054-ac6f-434b-a1c4-d0da85f0e162",
   "metadata": {},
   "source": [
    "STEP - 02\n",
    " - prediction = manually\n",
    " -  gradient computations = Autograd\n",
    " -  Loss computation = manually\n",
    " -  Parameter updates = manually"
   ]
  },
  {
   "cell_type": "code",
   "execution_count": 21,
   "id": "37d29729-62b2-4ae2-ae4f-a9b23b7b291b",
   "metadata": {},
   "outputs": [
    {
     "name": "stdout",
     "output_type": "stream",
     "text": [
      "Prediction before training : f(5)= 0.000\n",
      "epoch 1: w = 0.300, loss = 30.00000000\n",
      "epoch 11: w = 1.665, loss = 1.16278565\n",
      "epoch 21: w = 1.934, loss = 0.04506890\n",
      "epoch 31: w = 1.987, loss = 0.00174685\n",
      "epoch 41: w = 1.997, loss = 0.00006770\n",
      "epoch 51: w = 1.999, loss = 0.00000262\n",
      "epoch 61: w = 2.000, loss = 0.00000010\n",
      "epoch 71: w = 2.000, loss = 0.00000000\n",
      "epoch 81: w = 2.000, loss = 0.00000000\n",
      "epoch 91: w = 2.000, loss = 0.00000000\n",
      "Prediction after training: f(5) = 10.000\n"
     ]
    }
   ],
   "source": [
    "import torch\n",
    "\n",
    "# Here we replace the manually computed gradient with autograd\n",
    "\n",
    "X = torch.tensor([1,2,3,4], dtype = torch.float32)\n",
    "Y = torch.tensor([2,4,6,8], dtype = torch.float32)\n",
    "\n",
    "w = torch.tensor(0.0, dtype = torch.float32, requires_grad = True)\n",
    "\n",
    "# model output\n",
    "def forward(x):\n",
    "    return w*x\n",
    "    \n",
    "# loss = MSE\n",
    "def loss(y,y_pred):\n",
    "    return ((y_pred - y)**2).mean()\n",
    "\n",
    "print(f'Prediction before training : f(5)= {forward(5):.3f}')\n",
    "\n",
    "#Training\n",
    "learning_rate = 0.01\n",
    "n_iters = 100\n",
    "\n",
    "for epoch in range(n_iters):\n",
    "    \n",
    "    # predict = forward pass\n",
    "    y_pred = forward(X)\n",
    "\n",
    "    l = loss(Y,y_pred)\n",
    "\n",
    "    # calculate gradients = backward pass\n",
    "    l.backward()\n",
    "\n",
    "    # update weights\n",
    "    #w.data = w.data - learning_rate * w.grad\n",
    "    with torch.no_grad():\n",
    "        w-=learning_rate*w.grad\n",
    "\n",
    "    #zero the gradients after updating\n",
    "    w.grad.zero_()\n",
    "\n",
    "    if epoch % 10 == 0:\n",
    "        print(f'epoch {epoch+1}: w = {w.item():.3f}, loss = {l.item():.8f}')\n",
    "\n",
    "print(f'Prediction after training: f(5) = {forward(5).item():.3f}')\n",
    "    \n",
    "    \n"
   ]
  },
  {
   "cell_type": "markdown",
   "id": "84c11a06-3de9-4369-818c-69dd6ac32b02",
   "metadata": {},
   "source": [
    "STEP - 03\n",
    "- prediction = manually\n",
    "- gradient computations = Autograd\n",
    "- Loss computation = PyTorch loss\n",
    "- Parameter updates = PyTorch optimiser"
   ]
  },
  {
   "cell_type": "code",
   "execution_count": 22,
   "id": "2da6fda5-d552-4a30-b132-0f489c27bcff",
   "metadata": {},
   "outputs": [
    {
     "name": "stdout",
     "output_type": "stream",
     "text": [
      "Prediction before training : f(5) =  0.000\n",
      "epoch 1 : w= tensor(0.3000, requires_grad=True) :l= tensor(30., grad_fn=<MseLossBackward0>)\n",
      "epoch 11 : w= tensor(1.6653, requires_grad=True) :l= tensor(1.1628, grad_fn=<MseLossBackward0>)\n",
      "epoch 21 : w= tensor(1.9341, requires_grad=True) :l= tensor(0.0451, grad_fn=<MseLossBackward0>)\n",
      "epoch 31 : w= tensor(1.9870, requires_grad=True) :l= tensor(0.0017, grad_fn=<MseLossBackward0>)\n",
      "epoch 41 : w= tensor(1.9974, requires_grad=True) :l= tensor(6.7705e-05, grad_fn=<MseLossBackward0>)\n",
      "epoch 51 : w= tensor(1.9995, requires_grad=True) :l= tensor(2.6244e-06, grad_fn=<MseLossBackward0>)\n",
      "epoch 61 : w= tensor(1.9999, requires_grad=True) :l= tensor(1.0176e-07, grad_fn=<MseLossBackward0>)\n",
      "epoch 71 : w= tensor(2.0000, requires_grad=True) :l= tensor(3.9742e-09, grad_fn=<MseLossBackward0>)\n",
      "epoch 81 : w= tensor(2.0000, requires_grad=True) :l= tensor(1.4670e-10, grad_fn=<MseLossBackward0>)\n",
      "epoch 91 : w= tensor(2.0000, requires_grad=True) :l= tensor(5.0768e-12, grad_fn=<MseLossBackward0>)\n",
      "Prediction after training: f(5) = 10.000\n"
     ]
    }
   ],
   "source": [
    "# Design model (input, output, forward pass with different layers)\n",
    "# 2) Construct loss and optimizer\n",
    "# 3) Training loop\n",
    "#       - Forward = compute prediction and loss\n",
    "#       - Backward = compute gradients\n",
    "#       - Update weights\n",
    "\n",
    "import torch\n",
    "import torch.nn as nn\n",
    "\n",
    "# 0) Training samples\n",
    "X = torch.tensor([1,2,3,4], dtype = torch.float32)\n",
    "Y = torch.tensor([2,4,6,8], dtype = torch.float32)\n",
    "\n",
    "\n",
    "# 1) Design Model: Weights to optimize and forward function\n",
    "w = torch.tensor(0.0, dtype = torch.float32, requires_grad = True)\n",
    "\n",
    "def forward(x):\n",
    "    return w*x\n",
    "\n",
    "print(f'Prediction before training : f(5) = {forward(5) : .3f}')\n",
    "\n",
    "# 2) Define loss and optimizer\n",
    "learning_rate = 0.01\n",
    "n_iters = 100\n",
    "\n",
    "loss = nn.MSELoss()\n",
    "\n",
    "optimizer = torch.optim.SGD([w], lr = learning_rate)\n",
    "\n",
    "# 3) Training loop\n",
    "for epoch in range(n_iters):\n",
    "    # predict = forward pass\n",
    "    y_pred = forward(X)\n",
    "\n",
    "    #loss\n",
    "    l = loss(Y, y_pred)\n",
    "\n",
    "    # calculate gradients = backward pass\n",
    "    l.backward()\n",
    "\n",
    "    # update weights\n",
    "    optimizer.step()\n",
    "\n",
    "     # zero the gradients after updating\n",
    "    optimizer.zero_grad()\n",
    "\n",
    "    if epoch%10==0:\n",
    "        print('epoch',epoch+1 ,': w=',w , ':l=',l)\n",
    "\n",
    "print(f'Prediction after training: f(5) = {forward(5).item():.3f}')\n",
    "    "
   ]
  },
  {
   "cell_type": "markdown",
   "id": "0ee90e5d-fdb8-4e76-8e8a-6c2997cdc50f",
   "metadata": {},
   "source": [
    "STEP - 04\n",
    "- prediction = PyTorch model\n",
    "-  gradient computations = Autograd\n",
    "-   Loss computation = PyTorch loss\n",
    "-    Parameter updates = PyTorch optimiser"
   ]
  },
  {
   "cell_type": "code",
   "execution_count": 23,
   "id": "8993a2fe-6851-4e47-8442-90a3abcf61e4",
   "metadata": {},
   "outputs": [
    {
     "name": "stdout",
     "output_type": "stream",
     "text": [
      "#samples: 4, #features: 1\n",
      "Prediction before training: f(5) = 2.630\n",
      "epoch  1 : w =  0.8926337957382202  loss =  tensor(18.3799, grad_fn=<MseLossBackward0>)\n",
      "epoch  11 : w =  1.8724561929702759  loss =  tensor(0.4807, grad_fn=<MseLossBackward0>)\n",
      "epoch  21 : w =  2.0285654067993164  loss =  tensor(0.0173, grad_fn=<MseLossBackward0>)\n",
      "epoch  31 : w =  2.0522260665893555  loss =  tensor(0.0051, grad_fn=<MseLossBackward0>)\n",
      "epoch  41 : w =  2.0546247959136963  loss =  tensor(0.0045, grad_fn=<MseLossBackward0>)\n",
      "epoch  51 : w =  2.053645133972168  loss =  tensor(0.0042, grad_fn=<MseLossBackward0>)\n",
      "epoch  61 : w =  2.0521621704101562  loss =  tensor(0.0040, grad_fn=<MseLossBackward0>)\n",
      "epoch  71 : w =  2.05063796043396  loss =  tensor(0.0037, grad_fn=<MseLossBackward0>)\n",
      "epoch  81 : w =  2.049144744873047  loss =  tensor(0.0035, grad_fn=<MseLossBackward0>)\n",
      "epoch  91 : w =  2.0476934909820557  loss =  tensor(0.0033, grad_fn=<MseLossBackward0>)\n",
      "Prediction after training: f(5) = 10.096\n"
     ]
    }
   ],
   "source": [
    "# 1) Design model (input, output, forward pass with different layers)\n",
    "# 2) Construct loss and optimizer\n",
    "# 3) Training loop\n",
    "#       - Forward = compute prediction and loss\n",
    "#       - Backward = compute gradients\n",
    "#       - Update weights\n",
    "\n",
    "import torch\n",
    "import torch.nn as nn\n",
    "\n",
    "# Linear regression\n",
    "# f = w * x \n",
    "\n",
    "# here : f = 2 * x\n",
    "\n",
    "# 0) Training samples, watch the shape!\n",
    "X = torch.tensor([[1], [2], [3], [4]], dtype=torch.float32)\n",
    "Y = torch.tensor([[2], [4], [6], [8]], dtype=torch.float32)\n",
    "\n",
    "n_samples, n_features = X.shape\n",
    "print(f'#samples: {n_samples}, #features: {n_features}')\n",
    "# 0) create a test sample\n",
    "X_test = torch.tensor([5], dtype=torch.float32)\n",
    "\n",
    "# 1) Design Model, the model has to implement the forward pass!\n",
    "# Here we can use a built-in model from PyTorch\n",
    "input_size = n_features\n",
    "output_size = n_features\n",
    "\n",
    "# we can call this model with samples X\n",
    "model = nn.Linear(input_size, output_size)\n",
    "\n",
    "'''\n",
    "class LinearRegression(nn.Module):\n",
    "    def __init__(self, input_dim, output_dim):\n",
    "        super(LinearRegression, self).__init__()\n",
    "        # define diferent layers\n",
    "        self.lin = nn.Linear(input_dim, output_dim)\n",
    "\n",
    "    def forward(self, x):\n",
    "        return self.lin(x)\n",
    "\n",
    "model = LinearRegression(input_size, output_size)\n",
    "'''\n",
    "\n",
    "print(f'Prediction before training: f(5) = {model(X_test).item():.3f}')\n",
    "\n",
    "# 2) Define loss and optimizer\n",
    "learning_rate = 0.01\n",
    "n_iters = 100\n",
    "\n",
    "loss = nn.MSELoss()\n",
    "optimizer = torch.optim.SGD(model.parameters(), lr=learning_rate)\n",
    "\n",
    "# 3) Training loop\n",
    "for epoch in range(n_iters):\n",
    "    # predict = forward pass with our model\n",
    "    y_predicted = model(X)\n",
    "\n",
    "    # loss\n",
    "    l = loss(Y, y_predicted)\n",
    "\n",
    "    # calculate gradients = backward pass\n",
    "    l.backward()\n",
    "\n",
    "    # update weights\n",
    "    optimizer.step()\n",
    "\n",
    "    # zero the gradients after updating\n",
    "    optimizer.zero_grad()\n",
    "\n",
    "    if epoch % 10 == 0:\n",
    "        [w, b] = model.parameters() # unpack parameters\n",
    "        print('epoch ', epoch+1, ': w = ', w[0][0].item(), ' loss = ', l)\n",
    "\n",
    "print(f'Prediction after training: f(5) = {model(X_test).item():.3f}')"
   ]
  },
  {
   "cell_type": "code",
   "execution_count": null,
   "id": "9588e9d9-f15a-4e8e-9dcf-fdf0bdc19539",
   "metadata": {},
   "outputs": [],
   "source": []
  }
 ],
 "metadata": {
  "kernelspec": {
   "display_name": "Python [conda env:base] *",
   "language": "python",
   "name": "conda-base-py"
  },
  "language_info": {
   "codemirror_mode": {
    "name": "ipython",
    "version": 3
   },
   "file_extension": ".py",
   "mimetype": "text/x-python",
   "name": "python",
   "nbconvert_exporter": "python",
   "pygments_lexer": "ipython3",
   "version": "3.12.7"
  }
 },
 "nbformat": 4,
 "nbformat_minor": 5
}
