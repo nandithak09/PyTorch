{
 "cells": [
  {
   "cell_type": "code",
   "execution_count": 1,
   "id": "8927edab-fdeb-414f-9448-091b736af535",
   "metadata": {},
   "outputs": [
    {
     "name": "stdout",
     "output_type": "stream",
     "text": [
      "tensor([ 0.4444, -1.0966, -0.2144], requires_grad=True)\n"
     ]
    }
   ],
   "source": [
    "import torch\n",
    "x = torch.randn(3 , requires_grad = True)\n",
    "print(x)"
   ]
  },
  {
   "cell_type": "markdown",
   "id": "cfe36673-ea6c-405e-b67e-9cee6aae94da",
   "metadata": {},
   "source": [
    "The autograd package provides automatic differentiation \n",
    " for all operations on Tensors\n",
    "\n",
    "requires_grad = True -> tracks all operations on the tensor. \n",
    "y was created as a result of an operation, so it has a grad_fn attribute.\n",
    "grad_fn: references a Function that has created the Tensor"
   ]
  },
  {
   "cell_type": "code",
   "execution_count": 15,
   "id": "dde5755d-258e-4d1b-b47c-92ea1a96672b",
   "metadata": {},
   "outputs": [
    {
     "name": "stdout",
     "output_type": "stream",
     "text": [
      "tensor([2.4444, 0.9034, 1.7856], grad_fn=<AddBackward0>)\n",
      "tensor([11.9498,  1.6324,  6.3770], grad_fn=<MulBackward0>)\n"
     ]
    }
   ],
   "source": [
    "y = x+2\n",
    "print(y)\n",
    "z = y*y*2\n",
    "print(z)"
   ]
  },
  {
   "cell_type": "code",
   "execution_count": 16,
   "id": "cd71a5ab-2aa7-4924-816a-8a634caa597b",
   "metadata": {},
   "outputs": [
    {
     "name": "stdout",
     "output_type": "stream",
     "text": [
      "tensor(6.6531, grad_fn=<MeanBackward0>)\n"
     ]
    }
   ],
   "source": [
    "z = z.mean()\n",
    "print(z)"
   ]
  },
  {
   "cell_type": "markdown",
   "id": "45e01af6-ad9c-4e4f-a3bf-20bde8531119",
   "metadata": {},
   "source": [
    " Let's compute the gradients with backpropagation\n",
    " When we finish our computation we can call .backward() and have all the gradients computed automatically.\n",
    " The gradient for this tensor will be accumulated into .grad attribute.\n",
    " It is the partial derivate of the function w.r.t. the tensor"
   ]
  },
  {
   "cell_type": "code",
   "execution_count": 17,
   "id": "782fd45a-4853-4ec9-ab0b-2481558e2f95",
   "metadata": {},
   "outputs": [
    {
     "name": "stdout",
     "output_type": "stream",
     "text": [
      "tensor([8.4738, 9.6366, 4.7760])\n"
     ]
    }
   ],
   "source": [
    "z.backward()\n",
    "print(x.grad)"
   ]
  },
  {
   "cell_type": "markdown",
   "id": "1f2a675f-c339-4427-8e81-bb04ae9896d1",
   "metadata": {},
   "source": [
    " Generally speaking, torch.autograd is an engine for computing vector-Jacobian product\n",
    " It computes partial derivates while applying the chain rule\n",
    "\n",
    " -------------\n",
    " Model with non-scalar output:\n",
    " If a Tensor is non-scalar (more than 1 elements), we need to specify arguments for backward() \n",
    " specify a gradient argument that is a tensor of matching shape.\n",
    " needed for vector-Jacobian product"
   ]
  },
  {
   "cell_type": "code",
   "execution_count": 18,
   "id": "2c0c8d9a-dab6-4f7f-bf2f-e9a4f075b3ee",
   "metadata": {},
   "outputs": [
    {
     "name": "stdout",
     "output_type": "stream",
     "text": [
      "tensor([ 0.3599, -0.0089, -0.2701, -1.9900], requires_grad=True)\n"
     ]
    }
   ],
   "source": [
    "x = torch.randn(4, requires_grad=True)\n",
    "print(x)"
   ]
  },
  {
   "cell_type": "code",
   "execution_count": 20,
   "id": "a8eb5942-3898-4d7c-8b02-883403765f38",
   "metadata": {},
   "outputs": [
    {
     "name": "stdout",
     "output_type": "stream",
     "text": [
      "tensor([  737.1655,   -18.1494,  -553.1948, -4075.4771],\n",
      "       grad_fn=<MulBackward0>)\n",
      "torch.Size([4])\n"
     ]
    }
   ],
   "source": [
    "y = x*2\n",
    "for _ in range(10):\n",
    "  y = y*2\n",
    "print(y)\n",
    "print(y.shape)"
   ]
  },
  {
   "cell_type": "code",
   "execution_count": 22,
   "id": "792eb389-baa9-4e11-8bad-8402f1e27d15",
   "metadata": {},
   "outputs": [
    {
     "name": "stdout",
     "output_type": "stream",
     "text": [
      "tensor([ 204.8000,  204.8000, 2048.0000,    2.0480])\n"
     ]
    }
   ],
   "source": [
    "v = torch.tensor([0.1,0.1,1.0,0.001],dtype = torch.float32)\n",
    "y.backward(v)\n",
    "print(x.grad)"
   ]
  },
  {
   "cell_type": "markdown",
   "id": "02e0c7a0-5043-475d-8823-2a10ce9a0d49",
   "metadata": {},
   "source": [
    " -------------\n",
    "Stop a tensor from tracking history:\n",
    "For example during our training loop when we want to update our weights\n",
    "then this update operation should not be part of the gradient computation\n",
    "- x.requires_grad_(False)\n",
    "- x.detach()\n",
    "- wrap in 'with torch.no_grad():'"
   ]
  },
  {
   "cell_type": "code",
   "execution_count": 23,
   "id": "d176d869-1614-4518-88bf-0b808f444b22",
   "metadata": {},
   "outputs": [
    {
     "name": "stdout",
     "output_type": "stream",
     "text": [
      "False\n"
     ]
    }
   ],
   "source": [
    "# .requires_grad_(...) changes an existing flag in-place.\n",
    "\n",
    "a = torch.randn(2,2)\n",
    "print(a.requires_grad)"
   ]
  },
  {
   "cell_type": "code",
   "execution_count": 24,
   "id": "0346dcda-6ed5-4871-b56d-dd42b04b3eb6",
   "metadata": {},
   "outputs": [
    {
     "name": "stdout",
     "output_type": "stream",
     "text": [
      "None\n"
     ]
    }
   ],
   "source": [
    "b = ((a*3)/(a-1))\n",
    "print(b.grad_fn) # created by the user -> grad_fn is None"
   ]
  },
  {
   "cell_type": "code",
   "execution_count": 25,
   "id": "32f0ecb3-1fb6-4259-a0d3-4cfde9d5ece8",
   "metadata": {},
   "outputs": [
    {
     "name": "stdout",
     "output_type": "stream",
     "text": [
      "True\n"
     ]
    }
   ],
   "source": [
    "a.requires_grad_(True)\n",
    "print(a.requires_grad)"
   ]
  },
  {
   "cell_type": "code",
   "execution_count": 26,
   "id": "322d4abd-d447-4f00-8d0e-c572cfdb9c12",
   "metadata": {},
   "outputs": [
    {
     "name": "stdout",
     "output_type": "stream",
     "text": [
      "<SumBackward0 object at 0x0000023C1CFF5090>\n"
     ]
    }
   ],
   "source": [
    "b = (a*a).sum()\n",
    "print(b.grad_fn)"
   ]
  },
  {
   "cell_type": "code",
   "execution_count": 27,
   "id": "e5833407-8102-4751-9675-52fc37fffaac",
   "metadata": {},
   "outputs": [
    {
     "name": "stdout",
     "output_type": "stream",
     "text": [
      "True\n",
      "False\n"
     ]
    }
   ],
   "source": [
    "# .detach(): get a new Tensor with the same content but no gradient computation:\n",
    "\n",
    "a = torch.randn(2,2, requires_grad = True)\n",
    "print ( a. requires_grad)\n",
    "b = a.detach()\n",
    "print(b.requires_grad)"
   ]
  },
  {
   "cell_type": "code",
   "execution_count": 29,
   "id": "65189fa4-08ef-45ec-b622-b765be15a490",
   "metadata": {
    "scrolled": true
   },
   "outputs": [
    {
     "name": "stdout",
     "output_type": "stream",
     "text": [
      "True\n",
      "False\n"
     ]
    }
   ],
   "source": [
    "# wrap in 'with torch.no_grad():'\n",
    "\n",
    "a = torch.randn(2,2,requires_grad=True)\n",
    "print(a.requires_grad)\n",
    "with torch.no_grad():\n",
    "    print((x**2).requires_grad)"
   ]
  },
  {
   "cell_type": "markdown",
   "id": "a9c4dc63-55c8-40d5-bdab-b5a9918205f9",
   "metadata": {},
   "source": [
    "-------------\n",
    "backward() accumulates the gradient for this tensor into .grad attribute.\n",
    "!!! We need to be careful during optimization !!!\n",
    "Use .zero_() to empty the gradients before a new optimization step!"
   ]
  },
  {
   "cell_type": "code",
   "execution_count": 37,
   "id": "68cb557c-6091-4d75-86a6-776edfbcd0ff",
   "metadata": {},
   "outputs": [
    {
     "name": "stdout",
     "output_type": "stream",
     "text": [
      "tensor([3., 3., 3., 3.])\n",
      "tensor([3., 3., 3., 3.])\n",
      "tensor([3., 3., 3., 3.])\n",
      "tensor([0.1000, 0.1000, 0.1000, 0.1000], requires_grad=True)\n",
      "tensor(4.8000, grad_fn=<SumBackward0>)\n"
     ]
    }
   ],
   "source": [
    "weights = torch.ones(4, requires_grad = True)\n",
    "\n",
    "for epoch in range(3):\n",
    "    #just a dummy example\n",
    "    model_output = (weights*3).sum()\n",
    "    model_output.backward()\n",
    "\n",
    "    print(weights.grad)\n",
    "    # optimize model, i.e. adjust weights...\n",
    "    with torch.no_grad():\n",
    "        weights -= 0.1 * weights.grad\n",
    "\n",
    "    # this is important! It affects the final weights & output\n",
    "    weights.grad.zero_()\n",
    "\n",
    "print(weights)\n",
    "print(model_output)\n"
   ]
  },
  {
   "cell_type": "markdown",
   "id": "8c87f2f1-e86a-4bad-b944-a5e4aa60118f",
   "metadata": {},
   "source": [
    "Optimizer has zero_grad() method\n",
    "optimizer = torch.optim.SGD([weights], lr=0.1)\n",
    "During training:\n",
    "optimizer.step()\n",
    "optimizer.zero_grad()"
   ]
  }
 ],
 "metadata": {
  "kernelspec": {
   "display_name": "Python [conda env:base] *",
   "language": "python",
   "name": "conda-base-py"
  },
  "language_info": {
   "codemirror_mode": {
    "name": "ipython",
    "version": 3
   },
   "file_extension": ".py",
   "mimetype": "text/x-python",
   "name": "python",
   "nbconvert_exporter": "python",
   "pygments_lexer": "ipython3",
   "version": "3.12.7"
  }
 },
 "nbformat": 4,
 "nbformat_minor": 5
}
